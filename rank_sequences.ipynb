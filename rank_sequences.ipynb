{
 "cells": [
  {
   "cell_type": "code",
   "execution_count": 148,
   "metadata": {},
   "outputs": [],
   "source": [
    "import cv2\n",
    "import os\n",
    "import numpy as np\n",
    "import pandas as pd"
   ]
  },
  {
   "cell_type": "markdown",
   "metadata": {},
   "source": [
    "#### SNR"
   ]
  },
  {
   "cell_type": "code",
   "execution_count": 3,
   "metadata": {},
   "outputs": [
    {
     "name": "stdout",
     "output_type": "stream",
     "text": [
      "agility\n",
      "animal\n",
      "ants1\n",
      "bag\n",
      "ball2\n",
      "ball3\n",
      "basketball\n",
      "birds1\n",
      "birds2\n",
      "bolt1\n",
      "book\n",
      "bubble\n"
     ]
    },
    {
     "ename": "KeyboardInterrupt",
     "evalue": "",
     "output_type": "error",
     "traceback": [
      "\u001b[1;31m---------------------------------------------------------------------------\u001b[0m",
      "\u001b[1;31mKeyboardInterrupt\u001b[0m                         Traceback (most recent call last)",
      "Cell \u001b[1;32mIn[3], line 31\u001b[0m\n\u001b[0;32m     28\u001b[0m noise_values\u001b[38;5;241m.\u001b[39mappend(cv2\u001b[38;5;241m.\u001b[39mmeanStdDev(img1, img2))\n\u001b[0;32m     30\u001b[0m \u001b[38;5;66;03m#CNR\u001b[39;00m\n\u001b[1;32m---> 31\u001b[0m img \u001b[38;5;241m=\u001b[39m \u001b[43mcv2\u001b[49m\u001b[38;5;241;43m.\u001b[39;49m\u001b[43mimread\u001b[49m\u001b[43m(\u001b[49m\u001b[38;5;28;43mdir\u001b[39;49m\u001b[43m \u001b[49m\u001b[38;5;241;43m+\u001b[39;49m\u001b[43m \u001b[49m\u001b[38;5;124;43m\"\u001b[39;49m\u001b[38;5;124;43mcolor\u001b[39;49m\u001b[38;5;130;43;01m\\\\\u001b[39;49;00m\u001b[38;5;124;43m\"\u001b[39;49m\u001b[43m \u001b[49m\u001b[38;5;241;43m+\u001b[39;49m\u001b[43m \u001b[49m\u001b[38;5;124;43mf\u001b[39;49m\u001b[38;5;124;43m'\u001b[39;49m\u001b[38;5;132;43;01m{\u001b[39;49;00m\u001b[38;5;124;43mf\u001b[39;49m\u001b[38;5;124;43m\"\u001b[39;49m\u001b[38;5;132;43;01m{\u001b[39;49;00m\u001b[43mi\u001b[49m\u001b[38;5;250;43m \u001b[39;49m\u001b[38;5;241;43m+\u001b[39;49m\u001b[38;5;250;43m \u001b[39;49m\u001b[38;5;241;43m1\u001b[39;49m\u001b[38;5;132;43;01m}\u001b[39;49;00m\u001b[38;5;124;43m\"\u001b[39;49m\u001b[38;5;132;43;01m:\u001b[39;49;00m\u001b[38;5;124;43m0>8\u001b[39;49m\u001b[38;5;132;43;01m}\u001b[39;49;00m\u001b[38;5;124;43m'\u001b[39;49m\u001b[43m \u001b[49m\u001b[38;5;241;43m+\u001b[39;49m\u001b[43m \u001b[49m\u001b[38;5;124;43m\"\u001b[39;49m\u001b[38;5;124;43m.jpg\u001b[39;49m\u001b[38;5;124;43m\"\u001b[39;49m\u001b[43m)\u001b[49m\n\u001b[0;32m     32\u001b[0m y \u001b[38;5;241m=\u001b[39m cv2\u001b[38;5;241m.\u001b[39mcvtColor(img, cv2\u001b[38;5;241m.\u001b[39mCOLOR_BGR2YUV)[:,:,\u001b[38;5;241m0\u001b[39m]\n\u001b[0;32m     34\u001b[0m \u001b[38;5;66;03m# compute min and max of Y\u001b[39;00m\n",
      "\u001b[1;31mKeyboardInterrupt\u001b[0m: "
     ]
    }
   ],
   "source": [
    "filename = \".venv\\workspace2\\sequences\\list.txt\"\n",
    "with open(filename) as f:\n",
    "    mylist = f.read().splitlines() \n",
    "    d = {'Sequences': mylist}\n",
    "    mean_psnr = []\n",
    "    mean_cnr = []\n",
    "    mean_area = []\n",
    "\n",
    "    for line in mylist:\n",
    "        print(line)\n",
    "        dir = \".venv\\\\workspace2\\\\sequences\\\\\" + line.rstrip('\\n') + \"\\\\\"\n",
    "        # for filename in os.listdir(dir):\n",
    "        #     i1 = cv2.imread(dir + \"\\\\\" + filename)\n",
    "        #     cv2.imshow(\"image\", i1)\n",
    "        #     i1.shape\n",
    "        lst = os.listdir(dir + \"color\\\\\")\n",
    "        number_files = len(lst)\n",
    "        psnr_values = []\n",
    "        noise_values = []\n",
    "        contrast_values = []\n",
    "        cnr_values = []\n",
    "        \n",
    "        for i in range (number_files - 1):\n",
    "            #SNR\n",
    "            img1 = cv2.imread(dir + \"color\\\\\" + f'{f\"{i + 1}\":0>8}' + \".jpg\")\n",
    "            img2 = cv2.imread(dir + \"color\\\\\" + f'{f\"{i + 2}\":0>8}' + \".jpg\")\n",
    "            psnr_values.append(cv2.PSNR(img1, img2))\n",
    "            noise_values.append(cv2.meanStdDev(img1, img2))\n",
    "        \n",
    "            #CNR\n",
    "            img = cv2.imread(dir + \"color\\\\\" + f'{f\"{i + 1}\":0>8}' + \".jpg\")\n",
    "            y = cv2.cvtColor(img, cv2.COLOR_BGR2YUV)[:,:,0]\n",
    "\n",
    "            # compute min and max of Y\n",
    "            min = np.min(y)\n",
    "            max = np.max(y)\n",
    "\n",
    "            # compute contrast\n",
    "            cnr_values.append((max-min)/noise_values[i])\n",
    "\n",
    "            #Object size\n",
    "            df = pd.read_csv(dir + \"\\\\\" + 'groundtruth.txt', header=None)\n",
    "            # df.to_csv('csv\\\\groundtruth.csv')\n",
    "            # df = pd.read_csv('csv\\\\groundtruth.csv')\n",
    "            h = df[2].mean()\n",
    "            v = df[3].mean()\n",
    "\n",
    "\n",
    "        mean_area.append(h * v)\n",
    "        mean_psnr.append(np.mean(psnr_values))\n",
    "        mean_cnr.append(np.mean(cnr_values))\n",
    "        # print(f\"Object mean size: {h:.2f} by {v:.2f}, object mean area: {(h * v):.2f}\")\n",
    "        # print(f\"{np.mean(psnr_values):.2f}\") # средний SNR \n",
    "        # print(f\"{np.mean(cnr_values):.2f}\") # средний CNR\n",
    "\n",
    "    d['Area'] = mean_area\n",
    "    d['SNR'] = mean_psnr\n",
    "    d['CNR'] = mean_cnr"
   ]
  },
  {
   "cell_type": "code",
   "execution_count": 10,
   "metadata": {},
   "outputs": [],
   "source": [
    "df = pd.DataFrame(data=d)\n",
    "df.to_csv('csv\\\\VOT-STB2022.csv')\n"
   ]
  },
  {
   "cell_type": "code",
   "execution_count": 13,
   "metadata": {},
   "outputs": [
    {
     "data": {
      "text/html": [
       "<div>\n",
       "<style scoped>\n",
       "    .dataframe tbody tr th:only-of-type {\n",
       "        vertical-align: middle;\n",
       "    }\n",
       "\n",
       "    .dataframe tbody tr th {\n",
       "        vertical-align: top;\n",
       "    }\n",
       "\n",
       "    .dataframe thead th {\n",
       "        text-align: right;\n",
       "    }\n",
       "</style>\n",
       "<table border=\"1\" class=\"dataframe\">\n",
       "  <thead>\n",
       "    <tr style=\"text-align: right;\">\n",
       "      <th></th>\n",
       "      <th>Sequences</th>\n",
       "      <th>Area</th>\n",
       "      <th>SNR</th>\n",
       "      <th>CNR</th>\n",
       "    </tr>\n",
       "  </thead>\n",
       "  <tbody>\n",
       "    <tr>\n",
       "      <th>4</th>\n",
       "      <td>ball2</td>\n",
       "      <td>171.226651</td>\n",
       "      <td>24.065458</td>\n",
       "      <td>3.543342</td>\n",
       "    </tr>\n",
       "    <tr>\n",
       "      <th>18</th>\n",
       "      <td>drone1</td>\n",
       "      <td>280.764864</td>\n",
       "      <td>23.843949</td>\n",
       "      <td>2.754473</td>\n",
       "    </tr>\n",
       "    <tr>\n",
       "      <th>32</th>\n",
       "      <td>handball1</td>\n",
       "      <td>283.284340</td>\n",
       "      <td>22.038662</td>\n",
       "      <td>4.018406</td>\n",
       "    </tr>\n",
       "    <tr>\n",
       "      <th>40</th>\n",
       "      <td>marathon</td>\n",
       "      <td>311.959612</td>\n",
       "      <td>13.799926</td>\n",
       "      <td>3.048267</td>\n",
       "    </tr>\n",
       "    <tr>\n",
       "      <th>48</th>\n",
       "      <td>rowing</td>\n",
       "      <td>443.773454</td>\n",
       "      <td>19.994123</td>\n",
       "      <td>2.963186</td>\n",
       "    </tr>\n",
       "  </tbody>\n",
       "</table>\n",
       "</div>"
      ],
      "text/plain": [
       "    Sequences        Area        SNR       CNR\n",
       "4       ball2  171.226651  24.065458  3.543342\n",
       "18     drone1  280.764864  23.843949  2.754473\n",
       "32  handball1  283.284340  22.038662  4.018406\n",
       "40   marathon  311.959612  13.799926  3.048267\n",
       "48     rowing  443.773454  19.994123  2.963186"
      ]
     },
     "execution_count": 13,
     "metadata": {},
     "output_type": "execute_result"
    }
   ],
   "source": [
    "df.sort_values(by=['Area']).head()"
   ]
  },
  {
   "cell_type": "code",
   "execution_count": 14,
   "metadata": {},
   "outputs": [
    {
     "data": {
      "text/html": [
       "<div>\n",
       "<style scoped>\n",
       "    .dataframe tbody tr th:only-of-type {\n",
       "        vertical-align: middle;\n",
       "    }\n",
       "\n",
       "    .dataframe tbody tr th {\n",
       "        vertical-align: top;\n",
       "    }\n",
       "\n",
       "    .dataframe thead th {\n",
       "        text-align: right;\n",
       "    }\n",
       "</style>\n",
       "<table border=\"1\" class=\"dataframe\">\n",
       "  <thead>\n",
       "    <tr style=\"text-align: right;\">\n",
       "      <th></th>\n",
       "      <th>Sequences</th>\n",
       "      <th>Area</th>\n",
       "      <th>SNR</th>\n",
       "      <th>CNR</th>\n",
       "    </tr>\n",
       "  </thead>\n",
       "  <tbody>\n",
       "    <tr>\n",
       "      <th>40</th>\n",
       "      <td>marathon</td>\n",
       "      <td>311.959612</td>\n",
       "      <td>13.799926</td>\n",
       "      <td>3.048267</td>\n",
       "    </tr>\n",
       "    <tr>\n",
       "      <th>54</th>\n",
       "      <td>soccer2</td>\n",
       "      <td>1166.797188</td>\n",
       "      <td>14.585554</td>\n",
       "      <td>3.025486</td>\n",
       "    </tr>\n",
       "    <tr>\n",
       "      <th>51</th>\n",
       "      <td>singer3</td>\n",
       "      <td>39292.417808</td>\n",
       "      <td>14.908096</td>\n",
       "      <td>4.455337</td>\n",
       "    </tr>\n",
       "    <tr>\n",
       "      <th>41</th>\n",
       "      <td>matrix</td>\n",
       "      <td>3820.808800</td>\n",
       "      <td>15.045035</td>\n",
       "      <td>5.350964</td>\n",
       "    </tr>\n",
       "    <tr>\n",
       "      <th>38</th>\n",
       "      <td>lamb</td>\n",
       "      <td>9943.323000</td>\n",
       "      <td>16.843891</td>\n",
       "      <td>3.158066</td>\n",
       "    </tr>\n",
       "  </tbody>\n",
       "</table>\n",
       "</div>"
      ],
      "text/plain": [
       "   Sequences          Area        SNR       CNR\n",
       "40  marathon    311.959612  13.799926  3.048267\n",
       "54   soccer2   1166.797188  14.585554  3.025486\n",
       "51   singer3  39292.417808  14.908096  4.455337\n",
       "41    matrix   3820.808800  15.045035  5.350964\n",
       "38      lamb   9943.323000  16.843891  3.158066"
      ]
     },
     "execution_count": 14,
     "metadata": {},
     "output_type": "execute_result"
    }
   ],
   "source": [
    "df.sort_values(by=['SNR']).head()"
   ]
  },
  {
   "cell_type": "code",
   "execution_count": 17,
   "metadata": {},
   "outputs": [
    {
     "data": {
      "text/html": [
       "<div>\n",
       "<style scoped>\n",
       "    .dataframe tbody tr th:only-of-type {\n",
       "        vertical-align: middle;\n",
       "    }\n",
       "\n",
       "    .dataframe tbody tr th {\n",
       "        vertical-align: top;\n",
       "    }\n",
       "\n",
       "    .dataframe thead th {\n",
       "        text-align: right;\n",
       "    }\n",
       "</style>\n",
       "<table border=\"1\" class=\"dataframe\">\n",
       "  <thead>\n",
       "    <tr style=\"text-align: right;\">\n",
       "      <th></th>\n",
       "      <th>Sequences</th>\n",
       "      <th>Area</th>\n",
       "      <th>SNR</th>\n",
       "      <th>CNR</th>\n",
       "    </tr>\n",
       "  </thead>\n",
       "  <tbody>\n",
       "    <tr>\n",
       "      <th>61</th>\n",
       "      <td>zebrafish1</td>\n",
       "      <td>2946.268200</td>\n",
       "      <td>41.281623</td>\n",
       "      <td>2.340400</td>\n",
       "    </tr>\n",
       "    <tr>\n",
       "      <th>35</th>\n",
       "      <td>iceskater1</td>\n",
       "      <td>16411.780111</td>\n",
       "      <td>24.080979</td>\n",
       "      <td>2.411451</td>\n",
       "    </tr>\n",
       "    <tr>\n",
       "      <th>36</th>\n",
       "      <td>iceskater2</td>\n",
       "      <td>19579.470694</td>\n",
       "      <td>134.602259</td>\n",
       "      <td>2.601579</td>\n",
       "    </tr>\n",
       "    <tr>\n",
       "      <th>6</th>\n",
       "      <td>basketball</td>\n",
       "      <td>6639.764752</td>\n",
       "      <td>20.702625</td>\n",
       "      <td>2.721314</td>\n",
       "    </tr>\n",
       "    <tr>\n",
       "      <th>18</th>\n",
       "      <td>drone1</td>\n",
       "      <td>280.764864</td>\n",
       "      <td>23.843949</td>\n",
       "      <td>2.754473</td>\n",
       "    </tr>\n",
       "  </tbody>\n",
       "</table>\n",
       "</div>"
      ],
      "text/plain": [
       "     Sequences          Area         SNR       CNR\n",
       "61  zebrafish1   2946.268200   41.281623  2.340400\n",
       "35  iceskater1  16411.780111   24.080979  2.411451\n",
       "36  iceskater2  19579.470694  134.602259  2.601579\n",
       "6   basketball   6639.764752   20.702625  2.721314\n",
       "18      drone1    280.764864   23.843949  2.754473"
      ]
     },
     "execution_count": 17,
     "metadata": {},
     "output_type": "execute_result"
    }
   ],
   "source": [
    "df.sort_values(by=['CNR']).head()"
   ]
  },
  {
   "cell_type": "markdown",
   "metadata": {},
   "source": [
    "#### CNR"
   ]
  },
  {
   "cell_type": "code",
   "execution_count": 43,
   "metadata": {},
   "outputs": [
    {
     "name": "stdout",
     "output_type": "stream",
     "text": [
      "4.02\n"
     ]
    }
   ],
   "source": [
    "contrast_values = []\n",
    "cnr_values = []\n",
    "for i in range (number_files - 1):\n",
    "    img = cv2.imread(dir + \"color\\\\\" + f'{f\"{i + 1}\":0>8}' + \".jpg\")\n",
    "    y = cv2.cvtColor(img, cv2.COLOR_BGR2YUV)[:,:,0]\n",
    "\n",
    "    # compute min and max of Y\n",
    "    min = np.min(y)\n",
    "    max = np.max(y)\n",
    "\n",
    "    # compute contrast\n",
    "    cnr_values.append((max-min)/noise_values[i])\n",
    "print(f\"{np.mean(cnr_values):.2f}\") # средний CNR"
   ]
  },
  {
   "cell_type": "markdown",
   "metadata": {},
   "source": [
    "#### Object Size"
   ]
  },
  {
   "cell_type": "code",
   "execution_count": 65,
   "metadata": {},
   "outputs": [
    {
     "name": "stdout",
     "output_type": "stream",
     "text": [
      "Object mean size: 13.57 by 20.88, object mean area: 283.28\n"
     ]
    }
   ],
   "source": [
    "df = pd.read_csv(dir + \"\\\\\" + 'groundtruth.txt', header=None)\n",
    "# df.to_csv('csv\\\\groundtruth.csv')\n",
    "# df = pd.read_csv('csv\\\\groundtruth.csv')\n",
    "h = df[2].mean()\n",
    "v = df[3].mean()\n",
    "print(f\"Object mean size: {h:.2f} by {v:.2f}, object mean area: {(h * v):.2f}\")"
   ]
  },
  {
   "cell_type": "code",
   "execution_count": 149,
   "metadata": {},
   "outputs": [],
   "source": [
    "import matplotlib.pyplot as plt\n",
    "from imagenet_id2name import imageNet_id2name\n",
    "\n",
    "import torch\n",
    "import torch.nn as nn\n",
    "import torch.optim as optim\n",
    "from torchvision import transforms\n",
    "import torchvision \n",
    "from torch.utils.data import DataLoader\n",
    "from tqdm import tqdm\n",
    "import pandas as pd\n",
    "from PIL import Image\n",
    "from torch.utils.data import Dataset\n",
    "import os"
   ]
  },
  {
   "cell_type": "code",
   "execution_count": 150,
   "metadata": {},
   "outputs": [
    {
     "data": {
      "text/plain": [
       "'cuda'"
      ]
     },
     "execution_count": 150,
     "metadata": {},
     "output_type": "execute_result"
    }
   ],
   "source": [
    "# Make sure we have a GPU\n",
    "device = \"cuda\" if torch.cuda.is_available() else \"cpu\"\n",
    "device"
   ]
  },
  {
   "cell_type": "code",
   "execution_count": 219,
   "metadata": {},
   "outputs": [],
   "source": [
    "data_dir = \"D:/ITMO/master/rankedDatasets/data/n01443537\""
   ]
  },
  {
   "cell_type": "code",
   "execution_count": 155,
   "metadata": {},
   "outputs": [],
   "source": [
    "from torchvision.models import alexnet, AlexNet_Weights\n",
    "# Initialize the Weight Transforms\n",
    "weights2 = AlexNet_Weights.DEFAULT\n",
    "model2 = alexnet(weights2)\n",
    "preprocess2 = weights2.transforms()\n",
    "\n",
    "from torchvision.models import resnet152, ResNet152_Weights\n",
    "# Initialize the Weight Transforms\n",
    "weights1 = ResNet152_Weights.DEFAULT\n",
    "model1 = resnet152(weights1)\n",
    "preprocess1 = weights1.transforms()\n",
    "\n",
    "from torchvision.models import vgg19_bn, VGG19_BN_Weights\n",
    "# Initialize the Weight Transforms\n",
    "weights3 = VGG19_BN_Weights.DEFAULT\n",
    "model3 = vgg19_bn(weights3)\n",
    "preprocess3 = weights3.transforms()"
   ]
  },
  {
   "cell_type": "code",
   "execution_count": 159,
   "metadata": {},
   "outputs": [],
   "source": [
    "listdir = os.listdir(data_dir)\n",
    "alexnet_prop = []\n",
    "alexnet_bool = []\n",
    "resnet_prop = []\n",
    "resnet_bool = []\n",
    "vgg_prop = []\n",
    "vgg_bool = []\n",
    "contrast_values = []\n",
    "for filename in listdir:\n",
    "    #  Apply it to the input image\n",
    "    custom_image = torchvision.io.read_image(str(data_dir + '/' + filename)).type(torch.float32)\n",
    "    if custom_image.shape[0] == 1:\n",
    "        continue\n",
    "    # Divide the image pixel values by 255 to get them between [0, 1]\n",
    "    img = custom_image / 255. \n",
    "    img_transformed = preprocess2(img)\n",
    "\n",
    "    # Set model to eval mode\n",
    "    model2.eval()\n",
    "    with torch.inference_mode():\n",
    "        custom_image_pred = model2(img_transformed.unsqueeze(dim=0))\n",
    "\n",
    "    custom_image_pred_probs = torch.softmax(custom_image_pred, dim=1)\n",
    "    custom_image_pred_label = torch.argmax(custom_image_pred_probs, dim=1)\n",
    "\n",
    "    alexnet_prop.append(custom_image_pred_probs[0][1].item())\n",
    "    alexnet_bool.append(1 == custom_image_pred_label.item())\n",
    "\n",
    "    # Divide the image pixel values by 255 to get them between [0, 1]\n",
    "    img = custom_image / 255. \n",
    "    img_transformed = preprocess1(img)\n",
    "\n",
    "    # Set model to eval mode\n",
    "    model1.eval()\n",
    "    with torch.inference_mode():\n",
    "        custom_image_pred = model1(img_transformed.unsqueeze(dim=0))\n",
    "\n",
    "    custom_image_pred_probs = torch.softmax(custom_image_pred, dim=1)\n",
    "    custom_image_pred_label = torch.argmax(custom_image_pred_probs, dim=1)\n",
    "\n",
    "    resnet_prop.append(custom_image_pred_probs[0][1].item())\n",
    "    resnet_bool.append(1 == custom_image_pred_label.item())\n",
    "\n",
    "    # Divide the image pixel values by 255 to get them between [0, 1]\n",
    "    img = custom_image / 255. \n",
    "    img_transformed = preprocess3(img)\n",
    "\n",
    "    # Set model to eval mode\n",
    "    model3.eval()\n",
    "    with torch.inference_mode():\n",
    "        custom_image_pred = model3(img_transformed.unsqueeze(dim=0))\n",
    "\n",
    "    custom_image_pred_probs = torch.softmax(custom_image_pred, dim=1)\n",
    "    custom_image_pred_label = torch.argmax(custom_image_pred_probs, dim=1)\n",
    "\n",
    "    vgg_prop.append(custom_image_pred_probs[0][1].item())\n",
    "    vgg_bool.append(1 == custom_image_pred_label.item())\n",
    "\n",
    "    img = cv2.imread(data_dir + '/' + filename)\n",
    "    gray = cv2.cvtColor(img, cv2.COLOR_BGR2GRAY)\n",
    "\n",
    "    # compute min and max of Y\n",
    "    sorted_gray = np.sort(gray.flatten())\n",
    "    coefficient = 0.1\n",
    "    n = round(len(gray.flatten()) * coefficient)\n",
    "    min = np.mean(sorted_gray[:n])\n",
    "    max = np.mean(sorted_gray[(len(gray.flatten())-n):])\n",
    "\n",
    "    # compute contrast\n",
    "    contrast_values.append((max-min)/max)"
   ]
  },
  {
   "cell_type": "code",
   "execution_count": 160,
   "metadata": {},
   "outputs": [],
   "source": [
    "d = dict()\n",
    "d['AlexNet prop'] = alexnet_prop\n",
    "d['AlexNet bool'] = alexnet_bool\n",
    "d['ResNet152 prop'] = resnet_prop\n",
    "d['ResNet152 bool'] = resnet_bool\n",
    "d['VGG19_BN prop'] = vgg_prop\n",
    "d['VGG19_BN bool'] = vgg_bool\n",
    "d['Contrast'] = contrast_values\n",
    "df = pd.DataFrame(data=d)"
   ]
  },
  {
   "cell_type": "code",
   "execution_count": 162,
   "metadata": {},
   "outputs": [
    {
     "data": {
      "text/html": [
       "<div>\n",
       "<style scoped>\n",
       "    .dataframe tbody tr th:only-of-type {\n",
       "        vertical-align: middle;\n",
       "    }\n",
       "\n",
       "    .dataframe tbody tr th {\n",
       "        vertical-align: top;\n",
       "    }\n",
       "\n",
       "    .dataframe thead th {\n",
       "        text-align: right;\n",
       "    }\n",
       "</style>\n",
       "<table border=\"1\" class=\"dataframe\">\n",
       "  <thead>\n",
       "    <tr style=\"text-align: right;\">\n",
       "      <th></th>\n",
       "      <th>AlexNet prop</th>\n",
       "      <th>AlexNet bool</th>\n",
       "      <th>ResNet152 prop</th>\n",
       "      <th>ResNet152 bool</th>\n",
       "      <th>VGG19_BN prop</th>\n",
       "      <th>VGG19_BN bool</th>\n",
       "      <th>Contrast</th>\n",
       "    </tr>\n",
       "  </thead>\n",
       "  <tbody>\n",
       "    <tr>\n",
       "      <th>0</th>\n",
       "      <td>0.009312</td>\n",
       "      <td>False</td>\n",
       "      <td>0.457608</td>\n",
       "      <td>True</td>\n",
       "      <td>0.006745</td>\n",
       "      <td>False</td>\n",
       "      <td>0.762931</td>\n",
       "    </tr>\n",
       "    <tr>\n",
       "      <th>1</th>\n",
       "      <td>0.993748</td>\n",
       "      <td>True</td>\n",
       "      <td>0.828916</td>\n",
       "      <td>True</td>\n",
       "      <td>0.840845</td>\n",
       "      <td>True</td>\n",
       "      <td>0.962411</td>\n",
       "    </tr>\n",
       "    <tr>\n",
       "      <th>2</th>\n",
       "      <td>0.965315</td>\n",
       "      <td>True</td>\n",
       "      <td>0.799527</td>\n",
       "      <td>True</td>\n",
       "      <td>0.394884</td>\n",
       "      <td>True</td>\n",
       "      <td>0.795452</td>\n",
       "    </tr>\n",
       "    <tr>\n",
       "      <th>3</th>\n",
       "      <td>0.916262</td>\n",
       "      <td>True</td>\n",
       "      <td>0.834785</td>\n",
       "      <td>True</td>\n",
       "      <td>0.570129</td>\n",
       "      <td>True</td>\n",
       "      <td>0.803096</td>\n",
       "    </tr>\n",
       "    <tr>\n",
       "      <th>4</th>\n",
       "      <td>0.991303</td>\n",
       "      <td>True</td>\n",
       "      <td>0.815884</td>\n",
       "      <td>True</td>\n",
       "      <td>0.999767</td>\n",
       "      <td>True</td>\n",
       "      <td>0.466066</td>\n",
       "    </tr>\n",
       "  </tbody>\n",
       "</table>\n",
       "</div>"
      ],
      "text/plain": [
       "   AlexNet prop  AlexNet bool  ResNet152 prop  ResNet152 bool  VGG19_BN prop  \\\n",
       "0      0.009312         False        0.457608            True       0.006745   \n",
       "1      0.993748          True        0.828916            True       0.840845   \n",
       "2      0.965315          True        0.799527            True       0.394884   \n",
       "3      0.916262          True        0.834785            True       0.570129   \n",
       "4      0.991303          True        0.815884            True       0.999767   \n",
       "\n",
       "   VGG19_BN bool  Contrast  \n",
       "0          False  0.762931  \n",
       "1           True  0.962411  \n",
       "2           True  0.795452  \n",
       "3           True  0.803096  \n",
       "4           True  0.466066  "
      ]
     },
     "execution_count": 162,
     "metadata": {},
     "output_type": "execute_result"
    }
   ],
   "source": [
    "df.head()"
   ]
  },
  {
   "cell_type": "code",
   "execution_count": 179,
   "metadata": {},
   "outputs": [
    {
     "data": {
      "text/plain": [
       "(500, 7)"
      ]
     },
     "execution_count": 179,
     "metadata": {},
     "output_type": "execute_result"
    }
   ],
   "source": [
    "df.shape"
   ]
  },
  {
   "cell_type": "code",
   "execution_count": null,
   "metadata": {},
   "outputs": [],
   "source": []
  },
  {
   "cell_type": "code",
   "execution_count": 247,
   "metadata": {},
   "outputs": [],
   "source": [
    "txt = pd.read_csv('data/n01443537/n01443537_boxes.txt', sep=\"\\t\", header=None)\n",
    "txt.columns = [\"Name\", \"1\", \"2\", \"3\", \"4\"]\n",
    "txt['length'] = abs(txt['3'] - txt['1'])\n",
    "txt['height'] = abs(txt['4'] - txt['2'])\n",
    "txt['Area'] = txt['height'] * txt['length']\n",
    "df1 = txt.drop(['1', '2', '3', '4', 'height', 'length'], axis=1)"
   ]
  },
  {
   "cell_type": "code",
   "execution_count": 248,
   "metadata": {},
   "outputs": [],
   "source": [
    "result = pd.concat([df1, df], axis=1)"
   ]
  },
  {
   "cell_type": "code",
   "execution_count": 249,
   "metadata": {},
   "outputs": [
    {
     "data": {
      "text/html": [
       "<div>\n",
       "<style scoped>\n",
       "    .dataframe tbody tr th:only-of-type {\n",
       "        vertical-align: middle;\n",
       "    }\n",
       "\n",
       "    .dataframe tbody tr th {\n",
       "        vertical-align: top;\n",
       "    }\n",
       "\n",
       "    .dataframe thead th {\n",
       "        text-align: right;\n",
       "    }\n",
       "</style>\n",
       "<table border=\"1\" class=\"dataframe\">\n",
       "  <thead>\n",
       "    <tr style=\"text-align: right;\">\n",
       "      <th></th>\n",
       "      <th>Name</th>\n",
       "      <th>Area</th>\n",
       "      <th>AlexNet prop</th>\n",
       "      <th>AlexNet bool</th>\n",
       "      <th>ResNet152 prop</th>\n",
       "      <th>ResNet152 bool</th>\n",
       "      <th>VGG19_BN prop</th>\n",
       "      <th>VGG19_BN bool</th>\n",
       "      <th>Contrast</th>\n",
       "    </tr>\n",
       "  </thead>\n",
       "  <tbody>\n",
       "    <tr>\n",
       "      <th>0</th>\n",
       "      <td>n01443537_0.JPEG</td>\n",
       "      <td>3024</td>\n",
       "      <td>0.009312</td>\n",
       "      <td>False</td>\n",
       "      <td>0.457608</td>\n",
       "      <td>True</td>\n",
       "      <td>0.006745</td>\n",
       "      <td>False</td>\n",
       "      <td>0.762931</td>\n",
       "    </tr>\n",
       "    <tr>\n",
       "      <th>1</th>\n",
       "      <td>n01443537_1.JPEG</td>\n",
       "      <td>1880</td>\n",
       "      <td>0.993748</td>\n",
       "      <td>True</td>\n",
       "      <td>0.828916</td>\n",
       "      <td>True</td>\n",
       "      <td>0.840845</td>\n",
       "      <td>True</td>\n",
       "      <td>0.962411</td>\n",
       "    </tr>\n",
       "    <tr>\n",
       "      <th>2</th>\n",
       "      <td>n01443537_2.JPEG</td>\n",
       "      <td>3969</td>\n",
       "      <td>0.965315</td>\n",
       "      <td>True</td>\n",
       "      <td>0.799527</td>\n",
       "      <td>True</td>\n",
       "      <td>0.394884</td>\n",
       "      <td>True</td>\n",
       "      <td>0.795452</td>\n",
       "    </tr>\n",
       "    <tr>\n",
       "      <th>3</th>\n",
       "      <td>n01443537_3.JPEG</td>\n",
       "      <td>1824</td>\n",
       "      <td>0.916262</td>\n",
       "      <td>True</td>\n",
       "      <td>0.834785</td>\n",
       "      <td>True</td>\n",
       "      <td>0.570129</td>\n",
       "      <td>True</td>\n",
       "      <td>0.803096</td>\n",
       "    </tr>\n",
       "    <tr>\n",
       "      <th>4</th>\n",
       "      <td>n01443537_4.JPEG</td>\n",
       "      <td>2268</td>\n",
       "      <td>0.991303</td>\n",
       "      <td>True</td>\n",
       "      <td>0.815884</td>\n",
       "      <td>True</td>\n",
       "      <td>0.999767</td>\n",
       "      <td>True</td>\n",
       "      <td>0.466066</td>\n",
       "    </tr>\n",
       "  </tbody>\n",
       "</table>\n",
       "</div>"
      ],
      "text/plain": [
       "               Name  Area  AlexNet prop  AlexNet bool  ResNet152 prop  \\\n",
       "0  n01443537_0.JPEG  3024      0.009312         False        0.457608   \n",
       "1  n01443537_1.JPEG  1880      0.993748          True        0.828916   \n",
       "2  n01443537_2.JPEG  3969      0.965315          True        0.799527   \n",
       "3  n01443537_3.JPEG  1824      0.916262          True        0.834785   \n",
       "4  n01443537_4.JPEG  2268      0.991303          True        0.815884   \n",
       "\n",
       "   ResNet152 bool  VGG19_BN prop  VGG19_BN bool  Contrast  \n",
       "0            True       0.006745          False  0.762931  \n",
       "1            True       0.840845           True  0.962411  \n",
       "2            True       0.394884           True  0.795452  \n",
       "3            True       0.570129           True  0.803096  \n",
       "4            True       0.999767           True  0.466066  "
      ]
     },
     "execution_count": 249,
     "metadata": {},
     "output_type": "execute_result"
    }
   ],
   "source": [
    "result.head()"
   ]
  },
  {
   "cell_type": "code",
   "execution_count": 250,
   "metadata": {},
   "outputs": [
    {
     "data": {
      "text/html": [
       "<div>\n",
       "<style scoped>\n",
       "    .dataframe tbody tr th:only-of-type {\n",
       "        vertical-align: middle;\n",
       "    }\n",
       "\n",
       "    .dataframe tbody tr th {\n",
       "        vertical-align: top;\n",
       "    }\n",
       "\n",
       "    .dataframe thead th {\n",
       "        text-align: right;\n",
       "    }\n",
       "</style>\n",
       "<table border=\"1\" class=\"dataframe\">\n",
       "  <thead>\n",
       "    <tr style=\"text-align: right;\">\n",
       "      <th></th>\n",
       "      <th>Name</th>\n",
       "      <th>Area</th>\n",
       "      <th>AlexNet prop</th>\n",
       "      <th>AlexNet bool</th>\n",
       "      <th>ResNet152 prop</th>\n",
       "      <th>ResNet152 bool</th>\n",
       "      <th>VGG19_BN prop</th>\n",
       "      <th>VGG19_BN bool</th>\n",
       "      <th>Contrast</th>\n",
       "    </tr>\n",
       "  </thead>\n",
       "  <tbody>\n",
       "    <tr>\n",
       "      <th>1</th>\n",
       "      <td>n01443537_1.JPEG</td>\n",
       "      <td>1880</td>\n",
       "      <td>0.993748</td>\n",
       "      <td>True</td>\n",
       "      <td>0.828916</td>\n",
       "      <td>True</td>\n",
       "      <td>0.840845</td>\n",
       "      <td>True</td>\n",
       "      <td>0.962411</td>\n",
       "    </tr>\n",
       "    <tr>\n",
       "      <th>2</th>\n",
       "      <td>n01443537_2.JPEG</td>\n",
       "      <td>3969</td>\n",
       "      <td>0.965315</td>\n",
       "      <td>True</td>\n",
       "      <td>0.799527</td>\n",
       "      <td>True</td>\n",
       "      <td>0.394884</td>\n",
       "      <td>True</td>\n",
       "      <td>0.795452</td>\n",
       "    </tr>\n",
       "    <tr>\n",
       "      <th>3</th>\n",
       "      <td>n01443537_3.JPEG</td>\n",
       "      <td>1824</td>\n",
       "      <td>0.916262</td>\n",
       "      <td>True</td>\n",
       "      <td>0.834785</td>\n",
       "      <td>True</td>\n",
       "      <td>0.570129</td>\n",
       "      <td>True</td>\n",
       "      <td>0.803096</td>\n",
       "    </tr>\n",
       "    <tr>\n",
       "      <th>4</th>\n",
       "      <td>n01443537_4.JPEG</td>\n",
       "      <td>2268</td>\n",
       "      <td>0.991303</td>\n",
       "      <td>True</td>\n",
       "      <td>0.815884</td>\n",
       "      <td>True</td>\n",
       "      <td>0.999767</td>\n",
       "      <td>True</td>\n",
       "      <td>0.466066</td>\n",
       "    </tr>\n",
       "    <tr>\n",
       "      <th>5</th>\n",
       "      <td>n01443537_5.JPEG</td>\n",
       "      <td>3969</td>\n",
       "      <td>0.655666</td>\n",
       "      <td>True</td>\n",
       "      <td>0.870346</td>\n",
       "      <td>True</td>\n",
       "      <td>0.392792</td>\n",
       "      <td>True</td>\n",
       "      <td>0.683569</td>\n",
       "    </tr>\n",
       "    <tr>\n",
       "      <th>...</th>\n",
       "      <td>...</td>\n",
       "      <td>...</td>\n",
       "      <td>...</td>\n",
       "      <td>...</td>\n",
       "      <td>...</td>\n",
       "      <td>...</td>\n",
       "      <td>...</td>\n",
       "      <td>...</td>\n",
       "      <td>...</td>\n",
       "    </tr>\n",
       "    <tr>\n",
       "      <th>493</th>\n",
       "      <td>n01443537_493.JPEG</td>\n",
       "      <td>1288</td>\n",
       "      <td>0.638556</td>\n",
       "      <td>True</td>\n",
       "      <td>0.837843</td>\n",
       "      <td>True</td>\n",
       "      <td>0.811252</td>\n",
       "      <td>True</td>\n",
       "      <td>0.877025</td>\n",
       "    </tr>\n",
       "    <tr>\n",
       "      <th>495</th>\n",
       "      <td>n01443537_495.JPEG</td>\n",
       "      <td>2640</td>\n",
       "      <td>0.884044</td>\n",
       "      <td>True</td>\n",
       "      <td>0.843849</td>\n",
       "      <td>True</td>\n",
       "      <td>0.992443</td>\n",
       "      <td>True</td>\n",
       "      <td>0.904955</td>\n",
       "    </tr>\n",
       "    <tr>\n",
       "      <th>496</th>\n",
       "      <td>n01443537_496.JPEG</td>\n",
       "      <td>928</td>\n",
       "      <td>0.084607</td>\n",
       "      <td>True</td>\n",
       "      <td>0.372403</td>\n",
       "      <td>True</td>\n",
       "      <td>0.807037</td>\n",
       "      <td>True</td>\n",
       "      <td>0.863937</td>\n",
       "    </tr>\n",
       "    <tr>\n",
       "      <th>498</th>\n",
       "      <td>n01443537_498.JPEG</td>\n",
       "      <td>1260</td>\n",
       "      <td>0.875852</td>\n",
       "      <td>True</td>\n",
       "      <td>0.844288</td>\n",
       "      <td>True</td>\n",
       "      <td>0.715756</td>\n",
       "      <td>True</td>\n",
       "      <td>0.712974</td>\n",
       "    </tr>\n",
       "    <tr>\n",
       "      <th>499</th>\n",
       "      <td>n01443537_499.JPEG</td>\n",
       "      <td>1521</td>\n",
       "      <td>0.926694</td>\n",
       "      <td>True</td>\n",
       "      <td>0.867348</td>\n",
       "      <td>True</td>\n",
       "      <td>0.995780</td>\n",
       "      <td>True</td>\n",
       "      <td>0.645993</td>\n",
       "    </tr>\n",
       "  </tbody>\n",
       "</table>\n",
       "<p>285 rows × 9 columns</p>\n",
       "</div>"
      ],
      "text/plain": [
       "                   Name  Area  AlexNet prop  AlexNet bool  ResNet152 prop  \\\n",
       "1      n01443537_1.JPEG  1880      0.993748          True        0.828916   \n",
       "2      n01443537_2.JPEG  3969      0.965315          True        0.799527   \n",
       "3      n01443537_3.JPEG  1824      0.916262          True        0.834785   \n",
       "4      n01443537_4.JPEG  2268      0.991303          True        0.815884   \n",
       "5      n01443537_5.JPEG  3969      0.655666          True        0.870346   \n",
       "..                  ...   ...           ...           ...             ...   \n",
       "493  n01443537_493.JPEG  1288      0.638556          True        0.837843   \n",
       "495  n01443537_495.JPEG  2640      0.884044          True        0.843849   \n",
       "496  n01443537_496.JPEG   928      0.084607          True        0.372403   \n",
       "498  n01443537_498.JPEG  1260      0.875852          True        0.844288   \n",
       "499  n01443537_499.JPEG  1521      0.926694          True        0.867348   \n",
       "\n",
       "     ResNet152 bool  VGG19_BN prop  VGG19_BN bool  Contrast  \n",
       "1              True       0.840845           True  0.962411  \n",
       "2              True       0.394884           True  0.795452  \n",
       "3              True       0.570129           True  0.803096  \n",
       "4              True       0.999767           True  0.466066  \n",
       "5              True       0.392792           True  0.683569  \n",
       "..              ...            ...            ...       ...  \n",
       "493            True       0.811252           True  0.877025  \n",
       "495            True       0.992443           True  0.904955  \n",
       "496            True       0.807037           True  0.863937  \n",
       "498            True       0.715756           True  0.712974  \n",
       "499            True       0.995780           True  0.645993  \n",
       "\n",
       "[285 rows x 9 columns]"
      ]
     },
     "execution_count": 250,
     "metadata": {},
     "output_type": "execute_result"
    }
   ],
   "source": [
    "result[result['VGG19_BN bool'] == True]"
   ]
  },
  {
   "cell_type": "code",
   "execution_count": 303,
   "metadata": {},
   "outputs": [
    {
     "data": {
      "text/plain": [
       "<Axes: xlabel='Contrast', ylabel='VGG19_BN prop'>"
      ]
     },
     "execution_count": 303,
     "metadata": {},
     "output_type": "execute_result"
    },
    {
     "data": {
      "image/png": "[encoded data removed]",
      "text/plain": [
       "<Figure size 640x480 with 1 Axes>"
      ]
     },
     "metadata": {},
     "output_type": "display_data"
    }
   ],
   "source": [
    "result.plot(kind = 'scatter', x = 'Contrast', y = 'VGG19_BN prop')"
   ]
  },
  {
   "cell_type": "code",
   "execution_count": 289,
   "metadata": {},
   "outputs": [],
   "source": [
    "true_small = result[(result['Area'] < 1500) & (result['AlexNet bool'] == True)].shape[0]\n",
    "true_big = result[(result['Area'] > 1500) & (result['AlexNet bool'] == True)].shape[0]\n",
    "false_small = result[(result['Area'] < 1500) & (result['AlexNet bool'] == False)].shape[0]\n",
    "false_big = result[(result['Area'] > 1500) & (result['AlexNet bool'] == False)].shape[0]"
   ]
  },
  {
   "cell_type": "code",
   "execution_count": 275,
   "metadata": {},
   "outputs": [],
   "source": [
    "true_small = result[(result['Area'] < 1500) & (result['ResNet152 bool'] == True)].shape[0]\n",
    "true_big = result[(result['Area'] > 1500) & (result['ResNet152 bool'] == True)].shape[0]\n",
    "false_small = result[(result['Area'] < 1500) & (result['ResNet152 bool'] == False)].shape[0]\n",
    "false_big = result[(result['Area'] > 1500) & (result['ResNet152 bool'] == False)].shape[0]"
   ]
  },
  {
   "cell_type": "code",
   "execution_count": 279,
   "metadata": {},
   "outputs": [],
   "source": [
    "true_small = result[(result['Area'] < 1500) & (result['VGG19_BN bool'] == True)].shape[0]\n",
    "true_big = result[(result['Area'] > 1500) & (result['VGG19_BN bool'] == True)].shape[0]\n",
    "false_small = result[(result['Area'] < 1500) & (result['VGG19_BN bool'] == False)].shape[0]\n",
    "false_big = result[(result['Area'] > 1500) & (result['VGG19_BN bool'] == False)].shape[0]"
   ]
  },
  {
   "cell_type": "code",
   "execution_count": 308,
   "metadata": {},
   "outputs": [],
   "source": [
    "true_small = result[(result['Contrast'] < 0.5) & (result['AlexNet bool'] == True)].shape[0]\n",
    "true_big = result[(result['Contrast'] > 0.5) & (result['AlexNet bool'] == True)].shape[0]\n",
    "false_small = result[(result['Contrast'] < 0.5) & (result['AlexNet bool'] == False)].shape[0]\n",
    "false_big = result[(result['Contrast'] > 0.5) & (result['AlexNet bool'] == False)].shape[0]"
   ]
  },
  {
   "cell_type": "code",
   "execution_count": 311,
   "metadata": {},
   "outputs": [],
   "source": [
    "true_small = result[(result['Contrast'] < 0.5) & (result['ResNet152 bool'] == True)].shape[0]\n",
    "true_big = result[(result['Contrast'] > 0.5) & (result['ResNet152 bool'] == True)].shape[0]\n",
    "false_small = result[(result['Contrast'] < 0.5) & (result['ResNet152 bool'] == False)].shape[0]\n",
    "false_big = result[(result['Contrast'] > 0.5) & (result['ResNet152 bool'] == False)].shape[0]"
   ]
  },
  {
   "cell_type": "code",
   "execution_count": 314,
   "metadata": {},
   "outputs": [],
   "source": [
    "true_small = result[(result['Contrast'] < 0.5) & (result['VGG19_BN bool'] == True)].shape[0]\n",
    "true_big = result[(result['Contrast'] > 0.5) & (result['VGG19_BN bool'] == True)].shape[0]\n",
    "false_small = result[(result['Contrast'] < 0.5) & (result['VGG19_BN bool'] == False)].shape[0]\n",
    "false_big = result[(result['Contrast'] > 0.5) & (result['VGG19_BN bool'] == False)].shape[0]"
   ]
  },
  {
   "cell_type": "code",
   "execution_count": 315,
   "metadata": {},
   "outputs": [
    {
     "data": {
      "text/plain": [
       "0.43478260869565216"
      ]
     },
     "execution_count": 315,
     "metadata": {},
     "output_type": "execute_result"
    }
   ],
   "source": [
    "true_small/(false_small + true_small)"
   ]
  },
  {
   "cell_type": "code",
   "execution_count": 316,
   "metadata": {},
   "outputs": [
    {
     "data": {
      "text/plain": [
       "0.5765199161425576"
      ]
     },
     "execution_count": 316,
     "metadata": {},
     "output_type": "execute_result"
    }
   ],
   "source": [
    "true_big/(false_big + true_big)"
   ]
  },
  {
   "cell_type": "code",
   "execution_count": 296,
   "metadata": {},
   "outputs": [
    {
     "data": {
      "text/plain": [
       "0.47457217495511306"
      ]
     },
     "execution_count": 296,
     "metadata": {},
     "output_type": "execute_result"
    }
   ],
   "source": [
    "result[result['Area'] < 1500]['AlexNet prop'].mean()"
   ]
  },
  {
   "cell_type": "code",
   "execution_count": 297,
   "metadata": {},
   "outputs": [
    {
     "data": {
      "text/plain": [
       "0.4993508873619765"
      ]
     },
     "execution_count": 297,
     "metadata": {},
     "output_type": "execute_result"
    }
   ],
   "source": [
    "result[result['Area'] > 1500]['AlexNet prop'].mean()"
   ]
  },
  {
   "cell_type": "code",
   "execution_count": 299,
   "metadata": {},
   "outputs": [
    {
     "data": {
      "text/plain": [
       "0.6278602098000404"
      ]
     },
     "execution_count": 299,
     "metadata": {},
     "output_type": "execute_result"
    }
   ],
   "source": [
    "result[result['Area'] < 1500]['ResNet152 prop'].mean()"
   ]
  },
  {
   "cell_type": "code",
   "execution_count": 300,
   "metadata": {},
   "outputs": [
    {
     "data": {
      "text/plain": [
       "0.6279761789821972"
      ]
     },
     "execution_count": 300,
     "metadata": {},
     "output_type": "execute_result"
    }
   ],
   "source": [
    "result[result['Area'] > 1500]['ResNet152 prop'].mean()"
   ]
  },
  {
   "cell_type": "code",
   "execution_count": 188,
   "metadata": {},
   "outputs": [],
   "source": [
    "result.to_csv('csv/stats.csv')"
   ]
  }
 ],
 "metadata": {
  "kernelspec": {
   "display_name": ".venv",
   "language": "python",
   "name": "python3"
  },
  "language_info": {
   "codemirror_mode": {
    "name": "ipython",
    "version": 3
   },
   "file_extension": ".py",
   "mimetype": "text/x-python",
   "name": "python",
   "nbconvert_exporter": "python",
   "pygments_lexer": "ipython3",
   "version": "3.11.3"
  }
 },
 "nbformat": 4,
 "nbformat_minor": 2
}
